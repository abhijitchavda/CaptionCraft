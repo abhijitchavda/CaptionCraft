{
 "cells": [
  {
   "cell_type": "code",
   "execution_count": null,
   "metadata": {},
   "outputs": [],
   "source": [
    "pip install transformers Pillow torch torchvision torchaudio gradio langchain-experimental psutil"
   ]
  },
  {
   "cell_type": "markdown",
   "metadata": {},
   "source": [
    "# Import statements"
   ]
  },
  {
   "cell_type": "code",
   "execution_count": 36,
   "metadata": {},
   "outputs": [],
   "source": [
    "from transformers import BlipProcessor, BlipForConditionalGeneration\n",
    "from PIL import Image\n",
    "import requests\n",
    "import gradio as gd\n",
    "from langchain_community.llms import Ollama\n",
    "import psutil\n",
    "from langchain_core.prompts import PromptTemplate"
   ]
  },
  {
   "cell_type": "markdown",
   "metadata": {},
   "source": [
    "# Define processor and model from hugging face"
   ]
  },
  {
   "cell_type": "code",
   "execution_count": null,
   "metadata": {},
   "outputs": [],
   "source": [
    "processor = BlipProcessor.from_pretrained(\"Salesforce/blip-image-captioning-base\")\n",
    "model = BlipForConditionalGeneration.from_pretrained(\"Salesforce/blip-image-captioning-base\")"
   ]
  },
  {
   "cell_type": "markdown",
   "metadata": {},
   "source": [
    "# Connect to locally running LLM by using Ollama"
   ]
  },
  {
   "cell_type": "code",
   "execution_count": 38,
   "metadata": {},
   "outputs": [],
   "source": [
    "# This assumes that ollama is running on localhost at port 11434 and has \"mistral:instruct\" downloaded\n",
    "llm = Ollama(model=\"mistral:instruct\", num_thread = (psutil.cpu_count() - 2), keep_alive = -1, num_ctx=4098)\n",
    "# llm.invoke(\"Hi\") // test"
   ]
  },
  {
   "cell_type": "markdown",
   "metadata": {},
   "source": [
    "# Generate image description from image"
   ]
  },
  {
   "cell_type": "code",
   "execution_count": 39,
   "metadata": {},
   "outputs": [],
   "source": [
    "def get_image_description(image):\n",
    "    inputs = processor(image, return_tensors=\"pt\")\n",
    "    outputs = model.generate(**inputs)\n",
    "    return processor.decode(outputs[0],skip_special_tokens=True)"
   ]
  },
  {
   "cell_type": "markdown",
   "metadata": {},
   "source": [
    "# Create chain for generating caption from image description"
   ]
  },
  {
   "cell_type": "code",
   "execution_count": 40,
   "metadata": {},
   "outputs": [],
   "source": [
    "captionGenerationPromptStr = \"\"\"\n",
    "You are an expert at writing catchy captions for social media posts. Suggest a catchy caption for my social media post about {topic}\n",
    "\"\"\"\n",
    "captionGenerationPrompt = PromptTemplate(\n",
    "    template=captionGenerationPromptStr,\n",
    "    input_variables=[\"topic\"]\n",
    ")\n",
    "\n",
    "captionChain = captionGenerationPrompt | llm"
   ]
  },
  {
   "cell_type": "markdown",
   "metadata": {},
   "source": [
    "# Driver method"
   ]
  },
  {
   "cell_type": "code",
   "execution_count": 41,
   "metadata": {},
   "outputs": [],
   "source": [
    "def generate_caption(image):\n",
    "    isUrl = False\n",
    "    if image == None:\n",
    "        return \"You have to specify either images or image url.\"\n",
    "    if isinstance(image, str):\n",
    "        isUrl = True\n",
    "        image = Image.open(requests.get(image, stream=True).raw)\n",
    "\n",
    "    description = get_image_description(image)\n",
    "\n",
    "    caption = captionChain.invoke({\"topic\" : description})\n",
    "\n",
    "    if isUrl:\n",
    "        return caption, image\n",
    "    return caption"
   ]
  },
  {
   "cell_type": "markdown",
   "metadata": {},
   "source": [
    "# Create UI using gradio"
   ]
  },
  {
   "cell_type": "code",
   "execution_count": 42,
   "metadata": {},
   "outputs": [
    {
     "name": "stdout",
     "output_type": "stream",
     "text": [
      "Running on local URL:  http://127.0.0.1:7872\n",
      "\n",
      "To create a public link, set `share=True` in `launch()`.\n"
     ]
    },
    {
     "data": {
      "text/html": [
       "<div><iframe src=\"http://127.0.0.1:7872/\" width=\"100%\" height=\"500\" allow=\"autoplay; camera; microphone; clipboard-read; clipboard-write;\" frameborder=\"0\" allowfullscreen></iframe></div>"
      ],
      "text/plain": [
       "<IPython.core.display.HTML object>"
      ]
     },
     "metadata": {},
     "output_type": "display_data"
    },
    {
     "data": {
      "text/plain": []
     },
     "execution_count": 42,
     "metadata": {},
     "output_type": "execute_result"
    }
   ],
   "source": [
    "project_description = \"Transform you photos into shareable moments with AI-generated, attention-grabbing captions\"\n",
    "image_upload = gd.Interface(\n",
    "  fn=generate_caption,\n",
    "  inputs=gd.Image(type=\"pil\"),\n",
    "  outputs=[\"text\"],\n",
    "  title=\"CaptionCraft\",\n",
    "  description=project_description\n",
    ")\n",
    "\n",
    "image_url = gd.Interface(\n",
    "  fn=generate_caption,\n",
    "  inputs=[\"text\"],\n",
    "  outputs=[\"text\",\"image\"],\n",
    "  title=\"CaptionCraft\",\n",
    "  description=project_description\n",
    ")\n",
    "\n",
    "gd.TabbedInterface(\n",
    "    [image_upload, image_url], [\"Upload an image.\", \"Provide image url.\"]\n",
    ").launch()"
   ]
  }
 ],
 "metadata": {
  "kernelspec": {
   "display_name": "Python 3",
   "language": "python",
   "name": "python3"
  },
  "language_info": {
   "codemirror_mode": {
    "name": "ipython",
    "version": 3
   },
   "file_extension": ".py",
   "mimetype": "text/x-python",
   "name": "python",
   "nbconvert_exporter": "python",
   "pygments_lexer": "ipython3",
   "version": "3.11.3"
  }
 },
 "nbformat": 4,
 "nbformat_minor": 2
}
